{
 "cells": [
  {
   "cell_type": "code",
   "execution_count": 2,
   "id": "3ad4132b",
   "metadata": {},
   "outputs": [],
   "source": [
    "import numpy as np\n",
    "import pandas as pd\n",
    "import pandas as pd\n",
    "import numpy as np\n",
    "from sklearn.model_selection import train_test_split\n",
    "from sklearn.preprocessing import LabelEncoder\n",
    "from sklearn.metrics import accuracy_score, roc_auc_score\n",
    "import xgboost as xgb\n",
    "import lightgbm as lgb\n",
    "import catboost as cat\n",
    "import matplotlib.pyplot as plt\n",
    "import seaborn as sns\n",
    "import time"
   ]
  },
  {
   "cell_type": "code",
   "execution_count": 3,
   "id": "89e567d6",
   "metadata": {},
   "outputs": [
    {
     "data": {
      "text/html": [
       "<div>\n",
       "<style scoped>\n",
       "    .dataframe tbody tr th:only-of-type {\n",
       "        vertical-align: middle;\n",
       "    }\n",
       "\n",
       "    .dataframe tbody tr th {\n",
       "        vertical-align: top;\n",
       "    }\n",
       "\n",
       "    .dataframe thead th {\n",
       "        text-align: right;\n",
       "    }\n",
       "</style>\n",
       "<table border=\"1\" class=\"dataframe\">\n",
       "  <thead>\n",
       "    <tr style=\"text-align: right;\">\n",
       "      <th></th>\n",
       "      <th>CASE_NUMBER</th>\n",
       "      <th>CASE_STATUS</th>\n",
       "      <th>EMPLOYER_NAME</th>\n",
       "      <th>SOC_NAME</th>\n",
       "      <th>SOC_CODE</th>\n",
       "      <th>JOB_TITLE</th>\n",
       "      <th>FULL_TIME_POSITION</th>\n",
       "      <th>PREVAILING_WAGE</th>\n",
       "      <th>WORKSITE_CITY</th>\n",
       "      <th>WORKSITE_STATE_ABB</th>\n",
       "      <th>YEAR</th>\n",
       "      <th>WORKSITE_STATE_FULL</th>\n",
       "      <th>WORKSITE</th>\n",
       "    </tr>\n",
       "  </thead>\n",
       "  <tbody>\n",
       "    <tr>\n",
       "      <th>0</th>\n",
       "      <td>I-200-09285-514415</td>\n",
       "      <td>CERTIFIED</td>\n",
       "      <td>IT CATS LLC</td>\n",
       "      <td>COMPUTER SYSTEMS ANALYSTS</td>\n",
       "      <td>15-1121</td>\n",
       "      <td>SENIOR BUSINESS ANALYST</td>\n",
       "      <td>Y</td>\n",
       "      <td>109116.8</td>\n",
       "      <td>NORTH WALES,</td>\n",
       "      <td>PA</td>\n",
       "      <td>2015</td>\n",
       "      <td>PENNSYLVANIA</td>\n",
       "      <td>NORTH WALES, PENNSYLVANIA</td>\n",
       "    </tr>\n",
       "    <tr>\n",
       "      <th>1</th>\n",
       "      <td>I-200-09341-564186</td>\n",
       "      <td>CERTIFIED-WITHDRAWN</td>\n",
       "      <td>XPERT TECHNOLOGIES, INC.</td>\n",
       "      <td>COMPUTER OCCUPATIONS, ALL OTHER*</td>\n",
       "      <td>15-1799</td>\n",
       "      <td>QUALITY ASSURANCE ANALYST</td>\n",
       "      <td>Y</td>\n",
       "      <td>58282.0</td>\n",
       "      <td>CAMP HILL</td>\n",
       "      <td>PA</td>\n",
       "      <td>2015</td>\n",
       "      <td>PENNSYLVANIA</td>\n",
       "      <td>CAMP HILL, PENNSYLVANIA</td>\n",
       "    </tr>\n",
       "    <tr>\n",
       "      <th>2</th>\n",
       "      <td>I-200-09342-274341</td>\n",
       "      <td>CERTIFIED</td>\n",
       "      <td>ISR INFO WAY, INC.</td>\n",
       "      <td>SOFTWARE DEVELOPERS, APPLICATIONS</td>\n",
       "      <td>15-1132</td>\n",
       "      <td>SR. SOFTWARE DEVELOPER</td>\n",
       "      <td>Y</td>\n",
       "      <td>84906.0</td>\n",
       "      <td>CHICAGO</td>\n",
       "      <td>IL</td>\n",
       "      <td>2015</td>\n",
       "      <td>ILLINOIS</td>\n",
       "      <td>CHICAGO, ILLINOIS</td>\n",
       "    </tr>\n",
       "    <tr>\n",
       "      <th>3</th>\n",
       "      <td>I-200-09364-425868</td>\n",
       "      <td>CERTIFIED</td>\n",
       "      <td>MAGIC CIRCLE FILMS INTERNATIONAL LLC</td>\n",
       "      <td>FILM AND VIDEO EDITORS</td>\n",
       "      <td>27-4032</td>\n",
       "      <td>VIDEO EDITOR</td>\n",
       "      <td>Y</td>\n",
       "      <td>39333.0</td>\n",
       "      <td>AUBURN</td>\n",
       "      <td>NY</td>\n",
       "      <td>2015</td>\n",
       "      <td>NEW YORK</td>\n",
       "      <td>AUBURN, NEW YORK</td>\n",
       "    </tr>\n",
       "    <tr>\n",
       "      <th>4</th>\n",
       "      <td>I-200-10006-413683</td>\n",
       "      <td>WITHDRAWN</td>\n",
       "      <td>SAPHIRE SOLUTIONS INC</td>\n",
       "      <td>NETWORK AND COMPUTER SYSTEMS ADMINISTRATORS</td>\n",
       "      <td>15-1142</td>\n",
       "      <td>SYSTEMS ADMINISTRATOR</td>\n",
       "      <td>Y</td>\n",
       "      <td>68638.0</td>\n",
       "      <td>BETHPAGE</td>\n",
       "      <td>NY</td>\n",
       "      <td>2015</td>\n",
       "      <td>NEW YORK</td>\n",
       "      <td>BETHPAGE, NEW YORK</td>\n",
       "    </tr>\n",
       "  </tbody>\n",
       "</table>\n",
       "</div>"
      ],
      "text/plain": [
       "          CASE_NUMBER          CASE_STATUS  \\\n",
       "0  I-200-09285-514415            CERTIFIED   \n",
       "1  I-200-09341-564186  CERTIFIED-WITHDRAWN   \n",
       "2  I-200-09342-274341            CERTIFIED   \n",
       "3  I-200-09364-425868            CERTIFIED   \n",
       "4  I-200-10006-413683            WITHDRAWN   \n",
       "\n",
       "                          EMPLOYER_NAME  \\\n",
       "0                           IT CATS LLC   \n",
       "1              XPERT TECHNOLOGIES, INC.   \n",
       "2                    ISR INFO WAY, INC.   \n",
       "3  MAGIC CIRCLE FILMS INTERNATIONAL LLC   \n",
       "4                 SAPHIRE SOLUTIONS INC   \n",
       "\n",
       "                                      SOC_NAME SOC_CODE  \\\n",
       "0                    COMPUTER SYSTEMS ANALYSTS  15-1121   \n",
       "1             COMPUTER OCCUPATIONS, ALL OTHER*  15-1799   \n",
       "2            SOFTWARE DEVELOPERS, APPLICATIONS  15-1132   \n",
       "3                       FILM AND VIDEO EDITORS  27-4032   \n",
       "4  NETWORK AND COMPUTER SYSTEMS ADMINISTRATORS  15-1142   \n",
       "\n",
       "                   JOB_TITLE FULL_TIME_POSITION  PREVAILING_WAGE  \\\n",
       "0    SENIOR BUSINESS ANALYST                  Y         109116.8   \n",
       "1  QUALITY ASSURANCE ANALYST                  Y          58282.0   \n",
       "2     SR. SOFTWARE DEVELOPER                  Y          84906.0   \n",
       "3               VIDEO EDITOR                  Y          39333.0   \n",
       "4      SYSTEMS ADMINISTRATOR                  Y          68638.0   \n",
       "\n",
       "  WORKSITE_CITY WORKSITE_STATE_ABB  YEAR WORKSITE_STATE_FULL  \\\n",
       "0  NORTH WALES,                 PA  2015        PENNSYLVANIA   \n",
       "1     CAMP HILL                 PA  2015        PENNSYLVANIA   \n",
       "2       CHICAGO                 IL  2015            ILLINOIS   \n",
       "3        AUBURN                 NY  2015            NEW YORK   \n",
       "4      BETHPAGE                 NY  2015            NEW YORK   \n",
       "\n",
       "                    WORKSITE  \n",
       "0  NORTH WALES, PENNSYLVANIA  \n",
       "1    CAMP HILL, PENNSYLVANIA  \n",
       "2          CHICAGO, ILLINOIS  \n",
       "3           AUBURN, NEW YORK  \n",
       "4         BETHPAGE, NEW YORK  "
      ]
     },
     "execution_count": 3,
     "metadata": {},
     "output_type": "execute_result"
    }
   ],
   "source": [
    "data = pd.read_csv('data.csv', encoding='latin1')\n",
    "data.head()"
   ]
  },
  {
   "cell_type": "code",
   "execution_count": 4,
   "id": "585b3a59",
   "metadata": {},
   "outputs": [
    {
     "name": "stdout",
     "output_type": "stream",
     "text": [
      "Các giá trị duy nhất trong CASE_STATUS (trước xử lý): ['CERTIFIED' 'CERTIFIED-WITHDRAWN' 'WITHDRAWN' 'DENIED']\n",
      "Phân bố lớp trong CASE_STATUS (trước xử lý): CASE_STATUS\n",
      "CERTIFIED              765099\n",
      "CERTIFIED-WITHDRAWN     53049\n",
      "WITHDRAWN               27297\n",
      "DENIED                  11771\n",
      "Name: count, dtype: int64\n"
     ]
    }
   ],
   "source": [
    "print(\"Các giá trị duy nhất trong CASE_STATUS (trước xử lý):\", data['CASE_STATUS'].unique())\n",
    "print(\"Phân bố lớp trong CASE_STATUS (trước xử lý):\", data['CASE_STATUS'].value_counts())"
   ]
  },
  {
   "cell_type": "markdown",
   "id": "1dba8f45",
   "metadata": {},
   "source": [
    "### Tiền xử lí dữ liệu "
   ]
  },
  {
   "cell_type": "code",
   "execution_count": 5,
   "id": "a5d3952d",
   "metadata": {},
   "outputs": [
    {
     "name": "stderr",
     "output_type": "stream",
     "text": [
      "C:\\Users\\LENOVO\\AppData\\Local\\Temp\\ipykernel_19788\\3080726636.py:14: SettingWithCopyWarning: \n",
      "A value is trying to be set on a copy of a slice from a DataFrame.\n",
      "Try using .loc[row_indexer,col_indexer] = value instead\n",
      "\n",
      "See the caveats in the documentation: https://pandas.pydata.org/pandas-docs/stable/user_guide/indexing.html#returning-a-view-versus-a-copy\n",
      "  X[col] = le.fit_transform(X[col])\n",
      "C:\\Users\\LENOVO\\AppData\\Local\\Temp\\ipykernel_19788\\3080726636.py:14: SettingWithCopyWarning: \n",
      "A value is trying to be set on a copy of a slice from a DataFrame.\n",
      "Try using .loc[row_indexer,col_indexer] = value instead\n",
      "\n",
      "See the caveats in the documentation: https://pandas.pydata.org/pandas-docs/stable/user_guide/indexing.html#returning-a-view-versus-a-copy\n",
      "  X[col] = le.fit_transform(X[col])\n"
     ]
    }
   ],
   "source": [
    "data['CASE_STATUS'] = data['CASE_STATUS'].apply(lambda x: 1 if x == 'CERTIFIED' else 0)\n",
    "\n",
    "features = ['PREVAILING_WAGE', 'WORKSITE', 'SOC_NAME']\n",
    "X = data[features]\n",
    "y = data['CASE_STATUS']\n",
    "\n",
    "\n",
    "data['PREVAILING_WAGE'].fillna(data['PREVAILING_WAGE'].median())\n",
    "data['WORKSITE'].fillna('Unknown')\n",
    "data['SOC_NAME'].fillna('Unknown')\n",
    "\n",
    "for col in ['WORKSITE', 'SOC_NAME']:\n",
    "    le = LabelEncoder()\n",
    "    X[col] = le.fit_transform(X[col])"
   ]
  },
  {
   "cell_type": "code",
   "execution_count": 6,
   "id": "64c8e350",
   "metadata": {},
   "outputs": [
    {
     "data": {
      "text/plain": [
       "CASE_STATUS\n",
       "1    765099\n",
       "0     92117\n",
       "Name: count, dtype: int64"
      ]
     },
     "execution_count": 6,
     "metadata": {},
     "output_type": "execute_result"
    }
   ],
   "source": [
    "data['CASE_STATUS'].value_counts()"
   ]
  },
  {
   "cell_type": "code",
   "execution_count": 7,
   "id": "63e0e1c0",
   "metadata": {},
   "outputs": [],
   "source": [
    "X_train, X_test, y_train, y_test = train_test_split(X, y, test_size=0.33, random_state = 42, stratify=y)"
   ]
  },
  {
   "cell_type": "markdown",
   "id": "ce9cd9b2",
   "metadata": {},
   "source": [
    "### Huấn luyện mô hình"
   ]
  },
  {
   "cell_type": "code",
   "execution_count": 8,
   "id": "3e6fe7bf",
   "metadata": {},
   "outputs": [
    {
     "name": "stdout",
     "output_type": "stream",
     "text": [
      "[LightGBM] [Info] Number of positive: 512616, number of negative: 61718\n",
      "[LightGBM] [Info] Auto-choosing col-wise multi-threading, the overhead of testing was 0.117571 seconds.\n",
      "You can set `force_col_wise=true` to remove the overhead.\n",
      "[LightGBM] [Info] Total Bins 712\n",
      "[LightGBM] [Info] Number of data points in the train set: 574334, number of used features: 3\n",
      "[LightGBM] [Info] [binary:BoostFromScore]: pavg=0.892540 -> initscore=2.116951\n",
      "[LightGBM] [Info] Start training from score 2.116951\n"
     ]
    }
   ],
   "source": [
    "models = {\n",
    "    'XGBoost': xgb.XGBClassifier(n_estimators=50, random_state=42),\n",
    "    'LightGBM': lgb.LGBMClassifier(n_estimators=50, random_state=42),\n",
    "    'CatBoost': cat.CatBoostClassifier(n_estimators=50, random_state=42, verbose=0)\n",
    "}\n",
    "\n",
    "results = {'Model': [], 'Accuracy': [], 'AUC': [], 'Training Time (s)': []}\n",
    "predictions = {}\n",
    "misclassified_data = []\n",
    "\n",
    "for name, model in models.items():\n",
    "    start_time = time.time()\n",
    "    model.fit(X_train, y_train)\n",
    "    training_time = time.time() - start_time\n",
    "    \n",
    "    y_pred = model.predict(X_test)\n",
    "    y_prob = model.predict_proba(X_test)[:, 1]\n",
    "    \n",
    "    accuracy = accuracy_score(y_test, y_pred)\n",
    "    auc = roc_auc_score(y_test, y_prob)\n",
    "    \n",
    "    results['Model'].append(name)\n",
    "    results['Accuracy'].append(accuracy)\n",
    "    results['AUC'].append(auc)\n",
    "    results['Training Time (s)'].append(training_time)\n",
    "    predictions[name] = y_pred\n",
    "    \n",
    "    misclassified = X_test[y_test != y_pred].copy()\n",
    "    misclassified['Model'] = name\n",
    "    misclassified['True_Label'] = y_test[y_test != y_pred]\n",
    "    misclassified['Predicted_Label'] = y_pred[y_test != y_pred]\n",
    "    misclassified_data.append(misclassified)\n",
    "\n",
    "\n",
    "\n",
    "results_df = pd.DataFrame(results)"
   ]
  },
  {
   "cell_type": "markdown",
   "id": "5387563d",
   "metadata": {},
   "source": [
    "### Vẽ biểu đồ đường đôi "
   ]
  },
  {
   "cell_type": "code",
   "execution_count": 9,
   "id": "34e9c146",
   "metadata": {},
   "outputs": [],
   "source": [
    "fig, ax1 = plt.subplots(figsize=(8, 6))\n",
    "ax1.set_xlabel('Model')\n",
    "ax1.set_ylabel('Accuracy', color='tab:blue')\n",
    "ax1.plot(results_df['Model'], results_df['Accuracy'], color='tab:blue', marker='o', label='Accuracy')\n",
    "ax1.tick_params(axis='y', labelcolor='tab:blue')\n",
    "\n",
    "ax2 = ax1.twinx()\n",
    "ax2.set_ylabel('AUC', color='tab:orange')\n",
    "ax2.plot(results_df['Model'], results_df['AUC'], color='tab:orange', marker='s', label='AUC')\n",
    "ax2.tick_params(axis='y', labelcolor='tab:orange')\n",
    "\n",
    "fig.tight_layout()\n",
    "fig.legend(loc='upper center', bbox_to_anchor=(0.5, -0.05), ncol=2)\n",
    "plt.title('Model Performance: Accuracy and AUC')\n",
    "plt.savefig('model_performance.png')\n",
    "plt.close()\n"
   ]
  },
  {
   "cell_type": "markdown",
   "id": "4f923a29",
   "metadata": {},
   "source": [
    "### Vẽ biểu đồ phân tán các giá trị dự đoán sai"
   ]
  },
  {
   "cell_type": "code",
   "execution_count": 10,
   "id": "7d8676d0",
   "metadata": {},
   "outputs": [
    {
     "name": "stderr",
     "output_type": "stream",
     "text": [
      "C:\\Users\\LENOVO\\AppData\\Local\\Temp\\ipykernel_19788\\2068918169.py:9: UserWarning: Creating legend with loc=\"best\" can be slow with large amounts of data.\n",
      "  plt.savefig('misclassified_samples.png')\n"
     ]
    }
   ],
   "source": [
    "misclassified_df = pd.concat(misclassified_data).reset_index(drop=True)\n",
    "plt.figure(figsize=(10, 6))\n",
    "sns.scatterplot(data=misclassified_df, x='PREVAILING_WAGE', y='WORKSITE', \n",
    "                hue='Model', style='True_Label', size='True_Label', \n",
    "                palette='deep', sizes=(50, 200), alpha=0.6)\n",
    "plt.title('Misclassified Samples by Model')\n",
    "plt.xlabel('Prevailing Wage')\n",
    "plt.ylabel('Worksite(Encoded)')\n",
    "plt.savefig('misclassified_samples.png')\n",
    "plt.close()"
   ]
  },
  {
   "cell_type": "markdown",
   "id": "abde0008",
   "metadata": {},
   "source": [
    "\n",
    "Ba mô hình XGBoost, LightGBM và CatBoost được huấn luyện trên dữ liệu H-1B Visa Petitions (2015-2019) để dự đoán chấp thuận visa, dùng các đặc trưng như lương, ngành nghề và địa điểm. Với 50 cây quyết định, kết quả trên tập kiểm tra cho thấy: \n",
    "* XGBoost (Accuracy: 0.8931, AUC: 0.6300, thời gian: 2.34s).\n",
    "* LightGBM (Accuracy: 0.8930, AUC: 0.6225, thời gian: 8.24s)\n",
    "* CatBoost (Accuracy: 0.8929, AUC: 0.6125, thời gian: 15.12s). \n",
    "* XGBoost cho hiệu suất tốt nhất cả về Accuracy và AUC\n",
    "* LightGBM nhanh và gần bằng XGBoost, trong khi CatBoost thấp nhất.\n",
    "* Biểu đồ phân tán cho thấy các mẫu dự đoán sai tập trung ở một số bang (mã hóa cao) và mức lương cao, đặc biệt với CatBoost. Cần nghiên cứu thêm để cải thiện dự đoán ở các khu vực này.\n"
   ]
  }
 ],
 "metadata": {
  "kernelspec": {
   "display_name": "Python 3",
   "language": "python",
   "name": "python3"
  },
  "language_info": {
   "codemirror_mode": {
    "name": "ipython",
    "version": 3
   },
   "file_extension": ".py",
   "mimetype": "text/x-python",
   "name": "python",
   "nbconvert_exporter": "python",
   "pygments_lexer": "ipython3",
   "version": "3.10.0"
  }
 },
 "nbformat": 4,
 "nbformat_minor": 5
}
